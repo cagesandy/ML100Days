{
 "cells": [
  {
   "cell_type": "markdown",
   "metadata": {},
   "source": [
    "## [作業目標]\n",
    "了解機器學習適合應用的領域與範疇。"
   ]
  },
  {
   "cell_type": "markdown",
   "metadata": {},
   "source": [
    "## [作業重點]\n",
    "透過瞭解機器學習的運作方式，找出非常適用機器學習應用的領域及其原因"
   ]
  },
  {
   "cell_type": "markdown",
   "metadata": {},
   "source": [
    "## 作業\n",
    "請找出一個你認為機器學習可以發光發熱的領域並闡述原因? "
   ]
  },
  {
   "cell_type": "markdown",
   "metadata": {},
   "source": [
    "   機器學習技術會收集大量範例，找出其中的模式來解讀這些範例，然後再根據這些模式對新的範例做出預測。\n",
    "\n",
    "以電影推薦為例，假設有十億名觀眾各自提出最喜愛的十部電影，這樣一來就有大量範例可供電腦參考，進而掌握人們喜愛的電影有哪些共通點。電腦接著會歸納出一些模式來解讀這些範例，例如：「喜歡恐怖電影的人，通常不喜歡愛情電影，但如果兩種電影中有相同的演員就能吸引他們。」之後，如果你告訴電腦你喜歡傑克尼柯遜主演的《鬼店》，電腦將推測你是否會喜歡同樣由傑克尼柯遜演出的愛情喜劇《愛您在心眼難開》，並挑選要推薦給你的 YouTube 影片。"
   ]
  }
 ],
 "metadata": {
  "kernelspec": {
   "display_name": "Python 3",
   "language": "python",
   "name": "python3"
  },
  "language_info": {
   "codemirror_mode": {
    "name": "ipython",
    "version": 3
   },
   "file_extension": ".py",
   "mimetype": "text/x-python",
   "name": "python",
   "nbconvert_exporter": "python",
   "pygments_lexer": "ipython3",
   "version": "3.8.3"
  }
 },
 "nbformat": 4,
 "nbformat_minor": 2
}
